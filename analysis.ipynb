{
 "cells": [
  {
   "cell_type": "code",
   "execution_count": 2,
   "metadata": {},
   "outputs": [],
   "source": [
    "import os\n",
    "from pathlib import Path\n",
    "\n",
    "import numpy as np\n",
    "from matplotlib import pyplot as plt"
   ]
  },
  {
   "cell_type": "markdown",
   "metadata": {},
   "source": [
    "## Get COVID data"
   ]
  },
  {
   "cell_type": "code",
   "execution_count": 2,
   "metadata": {},
   "outputs": [],
   "source": [
    "DATA_DIR = Path('csse_covid_19_data/csse_covid_19_time_series/')\n",
    "\n",
    "filename = DATA_DIR / 'time_series_covid19_confirmed_global.csv'"
   ]
  },
  {
   "cell_type": "code",
   "execution_count": 18,
   "metadata": {},
   "outputs": [],
   "source": [
    "def get_region(line, start=0):\n",
    "    region = ''\n",
    "    break_ = True\n",
    "    for i in range(start, len(line)):\n",
    "        region += ',' + line[i]\n",
    "        if line[i].startswith('\"'):\n",
    "            break_ = False\n",
    "        if line[i].endswith('\"'):\n",
    "            break_ = True\n",
    "        if break_:\n",
    "            break\n",
    "    return region.strip(','), i"
   ]
  },
  {
   "cell_type": "code",
   "execution_count": 82,
   "metadata": {},
   "outputs": [],
   "source": [
    "confirmed = {}\n",
    "coordinates = np.empty((258, 2))\n",
    "id2country = []\n",
    "with open(filename) as f:\n",
    "    f.readline()  # skip header\n",
    "    for n, line in enumerate(f):\n",
    "        line = line.rstrip('\\n').split(',')\n",
    "        \n",
    "        key, i = get_region(line) \n",
    "        key2, i = get_region(line, i+1)\n",
    "        if key != '':\n",
    "            key += ','\n",
    "        key += key2\n",
    "        \n",
    "        coordinates[n][0] = float(line[i+1])\n",
    "        coordinates[n][1] = float(line[i+2])\n",
    "        \n",
    "        i += 3\n",
    "        confirmed[key] = np.array([\n",
    "            float(j) for j in line[i:] if j != '']\n",
    "        )\n",
    "        \n",
    "        id2country.append(key)\n",
    "        \n",
    "country2id = {country: i for i, country in enumerate(id2country)}"
   ]
  },
  {
   "cell_type": "markdown",
   "metadata": {},
   "source": [
    "## Create population file"
   ]
  },
  {
   "cell_type": "code",
   "execution_count": 68,
   "metadata": {},
   "outputs": [],
   "source": [
    "a_countries = []\n",
    "\n",
    "a_coordinates = np.empty((283, 2))\n",
    "\n",
    "with open('world_coordinates.csv') as f:\n",
    "    f.readline()\n",
    "    for i, line in enumerate(f):\n",
    "        line = line.rstrip('\\n').split(',')\n",
    "        a_countries.append(line[1])\n",
    "        a_coordinates[i][0] = float(line[2])\n",
    "        a_coordinates[i][1] = float(line[3])"
   ]
  },
  {
   "cell_type": "code",
   "execution_count": null,
   "metadata": {},
   "outputs": [],
   "source": [
    "from scipy.spatial.distance import cdist\n",
    "\n",
    "dists = cdist(coordinates, a_coordinates)\n",
    "ids = np.argmin(dists, axis=1)\n",
    "\n",
    "for i in range(229):\n",
    "    if a_countries[ids[i]] != id2country[i]:\n",
    "        print(id2country[i], '---->', a_countries[ids[i]])"
   ]
  },
  {
   "cell_type": "code",
   "execution_count": 79,
   "metadata": {},
   "outputs": [],
   "source": [
    "population = {}\n",
    "with open('population_by_country_2020.csv') as f:\n",
    "    f.readline()\n",
    "    for line in f:\n",
    "        line = line.rstrip('\\n').split(',')\n",
    "        population[line[0]] = int(line[1])\n",
    "\n",
    "with open('population.csv', 'w') as f:\n",
    "    for i, country in enumerate(id2country):\n",
    "        current_pop = population[a_countries[ids[i]]]\n",
    "        f.write('%s;%d\\n' % (country, current_pop))"
   ]
  },
  {
   "cell_type": "markdown",
   "metadata": {},
   "source": [
    "## Read population file"
   ]
  },
  {
   "cell_type": "code",
   "execution_count": 80,
   "metadata": {},
   "outputs": [],
   "source": [
    "population = {}\n",
    "\n",
    "with open('population.csv') as f:\n",
    "    for line in f:\n",
    "        line = line.rstrip('\\n').split(';')\n",
    "        population[line[0]] = int(line[1])"
   ]
  },
  {
   "cell_type": "markdown",
   "metadata": {},
   "source": [
    "## Plot evolution"
   ]
  },
  {
   "cell_type": "code",
   "execution_count": 113,
   "metadata": {},
   "outputs": [
    {
     "data": {
      "text/plain": [
       "<matplotlib.legend.Legend at 0x7f02ad730bd0>"
      ]
     },
     "execution_count": 113,
     "metadata": {},
     "output_type": "execute_result"
    },
    {
     "data": {
      "image/png": "[encoded data removed]",
      "text/plain": [
       "<Figure size 432x288 with 1 Axes>"
      ]
     },
     "metadata": {
      "needs_background": "light"
     },
     "output_type": "display_data"
    }
   ],
   "source": [
    "def plot(ax, country, log=True):\n",
    "    x = np.arange(confirmed[country].shape[0])\n",
    "\n",
    "    if log:\n",
    "        ax.set_yscale('log')\n",
    "\n",
    "    ax.plot(x, confirmed[country] / population[country], label=country)\n",
    "\n",
    "fig = plt.figure()\n",
    "ax = fig.add_subplot()\n",
    "\n",
    "log = False\n",
    "plot(ax, 'France', log)\n",
    "plot(ax, 'US', log)\n",
    "plot(ax, 'Russia', log)\n",
    "plot(ax, 'Brazil', log)\n",
    "ax.legend()\n",
    "# plot('France', False)"
   ]
  },
  {
   "cell_type": "markdown",
   "metadata": {},
   "source": [
    "## Exponential analysis"
   ]
  },
  {
   "cell_type": "code",
   "execution_count": 108,
   "metadata": {},
   "outputs": [
    {
     "data": {
      "text/plain": [
       "(1.2586768382411915, 0.15513926214347476)"
      ]
     },
     "execution_count": 108,
     "metadata": {},
     "output_type": "execute_result"
    }
   ],
   "source": [
    "def get_ratios(country):\n",
    "    ratios = []\n",
    "    for i in range(34, len(confirmed[country])):\n",
    "        ratio = confirmed[country][i] / confirmed[country][i-1]\n",
    "        ratios.append(ratio)\n",
    "    return np.array(ratios)\n",
    "\n",
    "country = 'US'\n",
    "ratios = get_ratios(country)\n",
    "avg = ratios.mean()\n",
    "std = ratios.std()\n",
    "avg, std"
   ]
  },
  {
   "cell_type": "code",
   "execution_count": 109,
   "metadata": {},
   "outputs": [
    {
     "data": {
      "text/plain": [
       "[<matplotlib.lines.Line2D at 0x7f02addc8710>]"
      ]
     },
     "execution_count": 109,
     "metadata": {},
     "output_type": "execute_result"
    },
    {
     "data": {
      "image/png": "[encoded data removed]",
      "text/plain": [
       "<Figure size 432x288 with 1 Axes>"
      ]
     },
     "metadata": {
      "needs_background": "light"
     },
     "output_type": "display_data"
    }
   ],
   "source": [
    "def moving_average(a, n=3) :\n",
    "    ret = np.cumsum(a, dtype=float)\n",
    "    ret[n:] = ret[n:] - ret[:-n]\n",
    "    return ret[n - 1:] / n\n",
    "\n",
    "move = 1\n",
    "n = len(confirmed[country][34:]) - (move - 1)\n",
    "\n",
    "fig = plt.figure()\n",
    "ax = fig.add_subplot()\n",
    "\n",
    "ax.plot(range(n), moving_average(ratios, move))"
   ]
  },
  {
   "cell_type": "code",
   "execution_count": 110,
   "metadata": {},
   "outputs": [
    {
     "data": {
      "text/plain": [
       "(array([[0.00154012]]), array([1.23018467]))"
      ]
     },
     "execution_count": 110,
     "metadata": {},
     "output_type": "execute_result"
    }
   ],
   "source": [
    "X = np.arange(len(ratios)).reshape(-1, 1)\n",
    "Y = ratios.reshape(-1, 1)\n",
    "\n",
    "from sklearn.linear_model import LinearRegression\n",
    "\n",
    "model = LinearRegression()\n",
    "model.fit(X, Y)\n",
    "model.coef_,model.intercept_"
   ]
  },
  {
   "cell_type": "code",
   "execution_count": 111,
   "metadata": {},
   "outputs": [
    {
     "data": {
      "text/plain": [
       "[<matplotlib.lines.Line2D at 0x7f02ae61cf90>]"
      ]
     },
     "execution_count": 111,
     "metadata": {},
     "output_type": "execute_result"
    },
    {
     "data": {
      "image/png": "[encoded data removed]",
      "text/plain": [
       "<Figure size 432x288 with 1 Axes>"
      ]
     },
     "metadata": {
      "needs_background": "light"
     },
     "output_type": "display_data"
    }
   ],
   "source": [
    "n = len(confirmed[country][34:])\n",
    "\n",
    "fig = plt.figure()\n",
    "ax = fig.add_subplot()\n",
    "\n",
    "ax.plot(range(n), ratios)\n",
    "ax.plot(range(60), model.coef_[0, 0] * np.arange(60) + model.intercept_[0])"
   ]
  }
 ],
 "metadata": {
  "kernelspec": {
   "display_name": "Python 3",
   "language": "python",
   "name": "python3"
  },
  "language_info": {
   "codemirror_mode": {
    "name": "ipython",
    "version": 3
   },
   "file_extension": ".py",
   "mimetype": "text/x-python",
   "name": "python",
   "nbconvert_exporter": "python",
   "pygments_lexer": "ipython3",
   "version": "3.7.5"
  }
 },
 "nbformat": 4,
 "nbformat_minor": 4
}
